{
 "cells": [
  {
   "cell_type": "markdown",
   "metadata": {},
   "source": [
    "# Exercício 3\n",
    "![alt text]({D4B5FC8A-3E3A-4A56-865C-9812FE09FACF}.png)"
   ]
  },
  {
   "cell_type": "markdown",
   "metadata": {},
   "source": [
    "![alt text]({D8B1AA91-146D-430C-AC36-3AF0FDBB4634}.png)"
   ]
  },
  {
   "cell_type": "code",
   "execution_count": 16,
   "metadata": {},
   "outputs": [
    {
     "data": {
      "image/png": "[encoded data removed]",
      "text/plain": [
       "<Figure size 640x480 with 1 Axes>"
      ]
     },
     "metadata": {},
     "output_type": "display_data"
    },
    {
     "name": "stdout",
     "output_type": "stream",
     "text": [
      "Integral de -1 a 1: 1.493648 (erro estimado: 1.66e-14)\n"
     ]
    }
   ],
   "source": [
    "import numpy as np\n",
    "import matplotlib.pyplot as plt\n",
    "\n",
    "x = np.linspace(-2, 2, 400)\n",
    "f = np.exp(-x**2)\n",
    "\n",
    "plt.plot(x, f)\n",
    "plt.title(r'Gráfico da função $f(x) = e^{-x^2}$')\n",
    "plt.xlabel('x')\n",
    "plt.ylabel('f(x)')\n",
    "plt.grid(True)\n",
    "plt.show()\n",
    "\n",
    "from scipy.integrate import quad\n",
    "\n",
    "resultado, erro = quad(lambda x: np.exp(-x**2), -1, 1)\n",
    "print(f\"Integral de -1 a 1: {resultado:.6f} (erro estimado: {erro:.2e})\")\n"
   ]
  },
  {
   "cell_type": "markdown",
   "metadata": {},
   "source": [
    "![alt text]({276448D2-37C1-4A37-9143-FEB276DBAD59}.png)"
   ]
  },
  {
   "cell_type": "code",
   "execution_count": 17,
   "metadata": {},
   "outputs": [
    {
     "name": "stdout",
     "output_type": "stream",
     "text": [
      "Resultado do método dos trapézios: 1.488737\n",
      "Erro absoluto: 0.004912\n"
     ]
    }
   ],
   "source": [
    "def f(x):\n",
    "    return np.exp(-x**2)\n",
    "\n",
    "N = 10\n",
    "a = -1.0\n",
    "b = 1.0\n",
    "\n",
    "# Método dos trapézios\n",
    "def trapezio(f, a, b, N):\n",
    "    h = (b - a) / N\n",
    "    s = 0.5*f(a) + 0.5*f(b)\n",
    "    for k in range(1,N):\n",
    "        s += f(a+k*h)\n",
    "    return h * s\n",
    "\n",
    "resultado_trapezio = trapezio(f, a, b, N)\n",
    "print(f\"Resultado do método dos trapézios: {resultado_trapezio:.6f}\")\n",
    "\n",
    "# Erro absoluto do método dos trapézios\n",
    "erro_abs = abs(resultado - resultado_trapezio)\n",
    "print(f\"Erro absoluto: {erro_abs:.6f}\")\n",
    "\n"
   ]
  },
  {
   "cell_type": "markdown",
   "metadata": {},
   "source": [
    "![alt text]({51D20A57-0060-4621-8CF3-75201531A234}.png)"
   ]
  },
  {
   "cell_type": "code",
   "execution_count": 18,
   "metadata": {},
   "outputs": [
    {
     "name": "stdout",
     "output_type": "stream",
     "text": [
      "Resultado da regra de Simpson: 1.493674\n",
      "Erro absoluto da regra de Simpson: 0.000026\n"
     ]
    }
   ],
   "source": [
    "# Regra de Simpson\n",
    "def simpson(f, a, b, N):\n",
    "    if N % 2 == 1:\n",
    "        raise ValueError(\"N deve ser par\")\n",
    "    h = (b - a) / N\n",
    "    s = f(a) + f(b)\n",
    "    for k in range(1, N, 2):\n",
    "        s += 4 * f(a + k * h)\n",
    "    for k in range(2, N-1, 2):\n",
    "        s += 2 * f(a + k * h)\n",
    "    return (h / 3) * s\n",
    "\n",
    "resultado_simpson = simpson(f, a, b, N)\n",
    "\n",
    "# Erro absoluto da regra de Simpson\n",
    "erro_simpson = abs(resultado - resultado_simpson)\n",
    "print(f\"Resultado da regra de Simpson: {resultado_simpson:.6f}\")\n",
    "print(f\"Erro absoluto da regra de Simpson: {erro_simpson:.6f}\")\n"
   ]
  },
  {
   "cell_type": "markdown",
   "metadata": {},
   "source": [
    "![alt text]({DC2170C3-B1D7-452E-8517-BF9F4162AF60}.png)"
   ]
  },
  {
   "cell_type": "code",
   "execution_count": 19,
   "metadata": {},
   "outputs": [
    {
     "name": "stdout",
     "output_type": "stream",
     "text": [
      "Resultado do método dos trapézios com N=100: 1.493599\n",
      "Resultado da regra de Simpson com N=100: 1.493674\n",
      "Erro absoluto do método dos trapézios com N=100: 0.000049\n",
      "Erro absoluto da regra de Simpson com N=100: 0.000000\n",
      "--------------------------------------------------\n",
      "Resultado do método dos trapézios com N=1000: 1.493648\n",
      "Resultado da regra de Simpson com N=1000: 1.493648\n",
      "Erro absoluto do método dos trapézios com N=1000: 0.000000\n",
      "Erro absoluto da regra de Simpson com N=1000: 0.000000\n"
     ]
    }
   ],
   "source": [
    "# N = 100\n",
    "resultado_trapezio_100 = trapezio(f, a, b, 100)\n",
    "resultado_simpson_100 = simpson(f, a, b, 100)\n",
    "print(f\"Resultado do método dos trapézios com N=100: {resultado_trapezio_100:.6f}\")\n",
    "print(f\"Resultado da regra de Simpson com N=100: {resultado_simpson:.6f}\")\n",
    "# Erro absoluto com N=100\n",
    "erro_abs_100 = abs(resultado - resultado_trapezio_100)\n",
    "print(f\"Erro absoluto do método dos trapézios com N=100: {erro_abs_100:.6f}\")\n",
    "erro_simpson_100 = abs(resultado - resultado_simpson_100)\n",
    "print(f\"Erro absoluto da regra de Simpson com N=100: {erro_simpson_100:.6f}\")\n",
    "print(\"-\"*50)\n",
    "\n",
    "# N = 1000\n",
    "resultado_trapezio_1000 = trapezio(f, a, b, 1000)\n",
    "resultado_simpson_1000 = simpson(f, a, b, 1000)     \n",
    "print(f\"Resultado do método dos trapézios com N=1000: {resultado_trapezio_1000:.6f}\")\n",
    "print(f\"Resultado da regra de Simpson com N=1000: {resultado_simpson_1000:.6f}\")\n",
    "# Erro absoluto com N=1000\n",
    "erro_abs_1000 = abs(resultado - resultado_trapezio_1000)\n",
    "print(f\"Erro absoluto do método dos trapézios com N=1000: {erro_abs_1000:.6f}\")\n",
    "erro_simpson_1000 = abs(resultado - resultado_simpson_1000)\n",
    "print(f\"Erro absoluto da regra de Simpson com N=1000: {erro_simpson_1000:.6f}\")\n",
    "\n"
   ]
  },
  {
   "cell_type": "markdown",
   "metadata": {},
   "source": [
    "![alt text]({A99EFEA3-F448-403D-9858-7CA3A84090A6}.png)"
   ]
  },
  {
   "cell_type": "code",
   "execution_count": 20,
   "metadata": {},
   "outputs": [
    {
     "name": "stdout",
     "output_type": "stream",
     "text": [
      "Valor final da integral: 1.4936485148714607\n",
      "\n",
      "Tabela:\n",
      "n\tIntegral\tErro\n",
      "2\t1.5785862941\t-\n",
      "4\t1.4943608578\t5.62e-03\n",
      "8\t1.4937107596\t4.33e-05\n",
      "16\t1.4936522411\t3.90e-06\n",
      "32\t1.4936485149\t2.48e-07\n"
     ]
    }
   ],
   "source": [
    "import numpy as np\n",
    "\n",
    "def simpson_adaptativo(f, a, b, eps=1e-6):\n",
    "    n = 2\n",
    "    I_prev = None\n",
    "    erro = float('inf')\n",
    "    resultados = []\n",
    "\n",
    "    while erro > eps:\n",
    "        h = (b - a) / n\n",
    "        # soma nos índices pares \n",
    "        even_sum = sum(f(a + k*h) for k in range(2, n, 2))\n",
    "        S = (1/3) * (f(a) + f(b) + 2*even_sum)\n",
    "        # soma nos índices ímpares \n",
    "        odd_sum = sum(f(a + k*h) for k in range(1, n, 2))\n",
    "        T = (2/3) * odd_sum\n",
    "\n",
    "        I = h * (S + 2*T)\n",
    "\n",
    "        if I_prev is None:\n",
    "            erro = float('inf')\n",
    "            resultados.append((n, I, None))\n",
    "        else:\n",
    "            erro = abs((I - I_prev) / 15)\n",
    "            resultados.append((n, I, erro))\n",
    "\n",
    "        I_prev = I\n",
    "        n *= 2\n",
    "\n",
    "    return I, resultados\n",
    "\n",
    "\n",
    "integral, dados = simpson_adaptativo(f, a, b, eps=1e-6)\n",
    "\n",
    "print(\"Valor final da integral:\", integral)\n",
    "print(\"\\nTabela:\")\n",
    "print(\"n\\tIntegral\\tErro\")\n",
    "for n, I, e in dados:\n",
    "    if e is None:\n",
    "        print(f\"{n}\\t{I:.10f}\\t{'-'}\")\n",
    "    else:\n",
    "        print(f\"{n}\\t{I:.10f}\\t{e:.2e}\")\n",
    "\n"
   ]
  },
  {
   "cell_type": "markdown",
   "metadata": {},
   "source": [
    "# Exercício 2\n",
    "![alt text]({D7EE8AE7-396B-42C6-9084-9D50C60C1F10}.png)"
   ]
  },
  {
   "cell_type": "markdown",
   "metadata": {},
   "source": [
    "![alt text]({46018223-EA1F-46F4-AE07-7D817F56D029}.png)"
   ]
  },
  {
   "cell_type": "code",
   "execution_count": 21,
   "metadata": {},
   "outputs": [
    {
     "name": "stdout",
     "output_type": "stream",
     "text": [
      "Máximo de f(x) no intervalo [0,4] encontrado em x = 1.0 com valor f(x) = 0.368\n"
     ]
    },
    {
     "data": {
      "image/png": "[encoded data removed]",
      "text/plain": [
       "<Figure size 640x480 with 1 Axes>"
      ]
     },
     "metadata": {},
     "output_type": "display_data"
    }
   ],
   "source": [
    "import numpy as np\n",
    "import matplotlib.pyplot as plt\n",
    "from scipy.optimize import minimize_scalar\n",
    "\n",
    "def f(x):\n",
    "    return np.exp(-x**2) * x**2\n",
    "\n",
    "x=np.linspace(0, 4, 400)\n",
    "\n",
    "\n",
    "# Encontrar o máximo\n",
    "result = minimize_scalar(lambda x: -f(x), bounds=(0, 4), method='bounded')\n",
    "x_max = result.x\n",
    "f_max = f(x_max)\n",
    "print(f\"Máximo de f(x) no intervalo [0,4] encontrado em x = {x_max:.1f} com valor f(x) = {f_max:.3f}\")\n",
    "\n",
    "f=f(x)\n",
    "plt.plot(x, f)\n",
    "plt.title(r'Gráfico da função $g(x) = e^{-x^2} \\cdot x^2$')\n",
    "plt.xlabel('x')\n",
    "plt.ylabel('g(x)')\n",
    "plt.grid(True)\n",
    "plt.show()\n",
    "\n"
   ]
  },
  {
   "cell_type": "markdown",
   "metadata": {},
   "source": [
    "![alt text]({9D47C73E-1ACD-49FC-B360-E0ADCAD45E3C}.png)"
   ]
  },
  {
   "cell_type": "code",
   "execution_count": 22,
   "metadata": {},
   "outputs": [
    {
     "name": "stdout",
     "output_type": "stream",
     "text": [
      "Resultado da integração de 0 ao infinito com a quadratura Gaussiana: 0.44311346272785074 \n",
      "\n",
      "Resultado da integração de 0 ao infinito com a regra de Simpson: 0.4431134432880828 \n",
      "\n",
      "Comparação da regra de Simpson com a quadratura Gaussiana: 1.943976796203728e-08 \n",
      "\n",
      "Valor de referencia: 0.443113 (erro estimado: 8.05e-09)\n"
     ]
    }
   ],
   "source": [
    "from numpy import ones,copy,cos,tan,pi,linspace\n",
    "\n",
    "\n",
    "def f(x):\n",
    "    return np.exp(-x**2) * x**2\n",
    "\n",
    "# Substituição para lidar com o infinito: t = x / (1 + x)\n",
    "def transformed_f(t):\n",
    "    x = t / (1 - t)  # Transformação inversa\n",
    "    dx_dt = 1 / (1 - t)**2  # Derivada de x em relação a t\n",
    "    return f(x) * dx_dt\n",
    "\n",
    "# utilizando o arquivo fornecido pelo livro\n",
    "def gaussxw(N):\n",
    "\n",
    "    # Initial approximation to roots of the Legendre polynomial\n",
    "    a = linspace(3,4*N-1,N)/(4*N+2)\n",
    "    x = cos(pi*a+1/(8*N*N*tan(a)))\n",
    "\n",
    "    # Find roots using Newton's method\n",
    "    epsilon = 1e-15\n",
    "    delta = 1.0\n",
    "    while delta>epsilon:\n",
    "        p0 = ones(N,float)\n",
    "        p1 = copy(x)\n",
    "        for k in range(1,N):\n",
    "            p0,p1 = p1,((2*k+1)*x*p1-k*p0)/(k+1)\n",
    "        dp = (N+1)*(p0-x*p1)/(1-x*x)\n",
    "        dx = p1/dp\n",
    "        x -= dx\n",
    "        delta = max(abs(dx))\n",
    "\n",
    "    # Calculate the weights\n",
    "    w = 2*(N+1)*(N+1)/(N*N*(1-x*x)*dp*dp)\n",
    "\n",
    "    return x,w\n",
    "\n",
    "\n",
    "def gaussxwab(N,a,b):\n",
    "    x,w = gaussxw(N)\n",
    "    return 0.5*(b-a)*x+0.5*(b+a),0.5*(b-a)*w\n",
    "\n",
    "def simpson(f, a, b, N):\n",
    "    if N % 2 == 1:\n",
    "        raise ValueError(\"N deve ser par\")\n",
    "    h = (b - a) / N\n",
    "    s = f(a) + f(b)\n",
    "    for k in range(1, N, 2):\n",
    "        s += 4 * f(a + k * h)\n",
    "    for k in range(2, N-1, 2):\n",
    "        s += 2 * f(a + k * h)\n",
    "    return (h / 3) * s\n",
    "\n",
    "\n",
    "N = 50\n",
    "a = 0.0\n",
    "b = 0.999999 # limite superior ajustado para evitar uma divisão por 0\n",
    "\n",
    "# Calculate the sample points and weights, then map them to the required integration domain\n",
    "x,w = gaussxw(N)\n",
    "xp = 0.5*(b-a)*x + 0.5*(b+a)\n",
    "wp = 0.5*(b-a)*w\n",
    "\n",
    "# Perform the integration\n",
    "s = 0.0\n",
    "for k in range(N):\n",
    "    s += wp[k]*transformed_f(xp[k])\n",
    "\n",
    "print(f\"Resultado da integração de 0 ao infinito com a quadratura Gaussiana: {s} \\n\")\n",
    "\n",
    "resultado_simpson = simpson(transformed_f, a, b, N)\n",
    "print(f\"Resultado da integração de 0 ao infinito com a regra de Simpson: {resultado_simpson} \\n\")\n",
    "# Erro absoluto da regra de Simpson\n",
    "erro_simpson = abs(s - resultado_simpson)\n",
    "print(f\"Comparação da regra de Simpson com a quadratura Gaussiana: {erro_simpson} \\n\")\n",
    "\n",
    "# valor de referencia\n",
    "resultado, erro = quad(lambda x: np.exp(-x**2) * x**2, 0, np.inf)\n",
    "print(f\"Valor de referencia: {resultado:.6f} (erro estimado: {erro:.2e})\")\n",
    "\n"
   ]
  },
  {
   "cell_type": "markdown",
   "metadata": {},
   "source": [
    "![alt text]({54043D8A-18A9-45A8-AF94-65F9F30F8747}.png)"
   ]
  },
  {
   "cell_type": "code",
   "execution_count": 23,
   "metadata": {},
   "outputs": [
    {
     "name": "stdout",
     "output_type": "stream",
     "text": [
      "Quadratura de Gauss (N=60): 0.4431134627263666\n",
      "Quadratura de Gauss (N=80): 0.44311346272637914\n",
      "Erro estimado (Gauss): 1.254552e-14\n",
      "\n",
      "Regra de Simpson (N=60): 0.443113452745065\n",
      "Regra de Simpson (N=80): 0.4431134594770194\n",
      "Erro estimado (Simpson): 6.731954e-09\n",
      "--------------------------------------------------\n",
      "Logo, a Quadratura de Gauss é mais confiável para esta função.\n"
     ]
    }
   ],
   "source": [
    "N1 = 60  \n",
    "N2 = 80  \n",
    "\n",
    "# quadratura de Gauss\n",
    "x1, w1 = gaussxwab(N1, a, b)\n",
    "x2, w2 = gaussxwab(N2, a, b)\n",
    "\n",
    "s1_gauss = sum(w1[k] * transformed_f(x1[k]) for k in range(N1))\n",
    "s2_gauss = sum(w2[k] * transformed_f(x2[k]) for k in range(N2))\n",
    "\n",
    "# estimativa de erro para quadratura de Gauss\n",
    "erro_gauss = abs(s2_gauss - s1_gauss)\n",
    "\n",
    "# regra de Simpson\n",
    "s1_simpson = simpson(transformed_f, a, b, N1)\n",
    "s2_simpson = simpson(transformed_f, a, b, N2)\n",
    "\n",
    "# estimativa de erro para regra de Simpson\n",
    "erro_simpson = abs(s2_simpson - s1_simpson)\n",
    "\n",
    "# resultados\n",
    "print(f\"Quadratura de Gauss (N={N1}): {s1_gauss}\")\n",
    "print(f\"Quadratura de Gauss (N={N2}): {s2_gauss}\")\n",
    "print(f\"Erro estimado (Gauss): {erro_gauss:.6e}\\n\")\n",
    "\n",
    "print(f\"Regra de Simpson (N={N1}): {s1_simpson}\")\n",
    "print(f\"Regra de Simpson (N={N2}): {s2_simpson}\")\n",
    "print(f\"Erro estimado (Simpson): {erro_simpson:.6e}\")\n",
    "\n",
    "# método mais confiável\n",
    "print(\"-\"*50)\n",
    "if erro_gauss < erro_simpson:\n",
    "    print(\"Logo, a Quadratura de Gauss é mais confiável para esta função.\")\n",
    "else:\n",
    "    print(\"Logo, a Regra de Simpson é mais confiável para esta função.\")"
   ]
  },
  {
   "cell_type": "markdown",
   "metadata": {},
   "source": [
    "# Exercício 3\n",
    "![alt text]({32D1EBFA-4886-41D6-B22B-EC0E8C69AC9E}.png)"
   ]
  },
  {
   "cell_type": "markdown",
   "metadata": {},
   "source": [
    "![alt text](image1.png)"
   ]
  },
  {
   "cell_type": "code",
   "execution_count": 24,
   "metadata": {},
   "outputs": [
    {
     "data": {
      "image/png": "[encoded data removed]",
      "text/plain": [
       "<Figure size 640x480 with 1 Axes>"
      ]
     },
     "metadata": {},
     "output_type": "display_data"
    }
   ],
   "source": [
    "import numpy as np\n",
    "import matplotlib.pyplot as plt\n",
    "\n",
    "# Função de Debye - integrando\n",
    "# f(x) = (x^4 * exp(x)) / (exp(x) - 1)^2\n",
    "def f(x):\n",
    "    # Evita divisão por zero numérico\n",
    "    if x == 0:\n",
    "        return 0.0\n",
    "    return (x**4 * np.exp(x)) / (np.exp(x) - 1)**2\n",
    "\n",
    "# Vetor de x\n",
    "b = 10  # limite superior para visualizar\n",
    "x_vals = np.linspace(0, b, 500)\n",
    "y_vals = [f(x) for x in x_vals]\n",
    "\n",
    "# Plot\n",
    "plt.plot(x_vals, y_vals, label=r\"$\\frac{x^4 e^x}{(e^x-1)^2}$\")\n",
    "plt.xlabel(r\"$x$\")\n",
    "plt.ylabel(\"f(x)\")\n",
    "plt.title(\"Função de Debye - Integrando\")\n",
    "plt.grid(True)\n",
    "plt.legend()\n",
    "plt.show()\n"
   ]
  },
  {
   "cell_type": "markdown",
   "metadata": {},
   "source": [
    "![alt text](image3.png)\n"
   ]
  },
  {
   "cell_type": "code",
   "execution_count": 31,
   "metadata": {},
   "outputs": [
    {
     "name": "stdout",
     "output_type": "stream",
     "text": [
      "Integral de Debye (Quadratura Gaussiana N=50) = 19.1229760161\n",
      "Integral de Debye (método de Romberg) = 19.1229760161\n",
      "\n",
      "Tabela de Romberg:\n",
      "9.6853440896\t \t \t \t \t \t \t \n",
      "18.2419363818\t21.0941338125\t \t \t \t \t \t \n",
      "18.9159164452\t19.1405764663\t19.0103393099\t \t \t \t \t \n",
      "19.0716363398\t19.1235429713\t19.1224074050\t19.1241862636\t \t \t \t \n",
      "19.1101679115\t19.1230117688\t19.1229763553\t19.1229853862\t19.1229806769\t \t \t \n",
      "19.1197756687\t19.1229782544\t19.1229760201\t19.1229760148\t19.1229759780\t19.1229759734\t \t \n",
      "19.1221760342\t19.1229761560\t19.1229760161\t19.1229760160\t19.1229760161\t19.1229760161\t19.1229760161\t \n",
      "19.1227760271\t19.1229760248\t19.1229760161\t19.1229760161\t19.1229760161\t19.1229760161\t19.1229760161\t19.1229760161\n",
      "\n",
      "Valor de referencia:\n",
      "19.122976 (erro estimado: 3.28e-12)\n"
     ]
    }
   ],
   "source": [
    "# 1 - quadratura de Gauss - codigo do livro \n",
    "from numpy import linspace, cos, pi, ones, copy, tan\n",
    "\n",
    "def f(x):\n",
    "    # Evita divisão por zero numérico\n",
    "    if x == 0:\n",
    "        return 0.0\n",
    "    return (x**4 * np.exp(x)) / (np.exp(x) - 1)**2\n",
    "\n",
    "# Parâmetros físicos\n",
    "Theta_D = 300  # temperatura de Debye (K)\n",
    "T = 50         # temperatura (K)\n",
    "b = Theta_D / T \n",
    "\n",
    "def gaussxw(N):\n",
    "    a = linspace(3,4*N-1,N)/(4*N+2)\n",
    "    x = cos(pi*a+1/(8*N*N*tan(a)))\n",
    "    epsilon = 1e-15\n",
    "    delta = 1.0\n",
    "    while delta > epsilon:\n",
    "        p0 = ones(N,float)\n",
    "        p1 = copy(x)\n",
    "        for k in range(1,N):\n",
    "            p0,p1 = p1,((2*k+1)*x*p1-k*p0)/(k+1)\n",
    "        dp = (N+1)*(p0-x*p1)/(1-x*x)\n",
    "        dx = p1/dp\n",
    "        x -= dx\n",
    "        delta = max(abs(dx))\n",
    "    w = 2*(N+1)*(N+1)/(N*N*(1-x*x)*dp*dp)\n",
    "    return x,w\n",
    "\n",
    "def gaussxwab(N,a,b):\n",
    "    x,w = gaussxw(N)\n",
    "    return 0.5*(b-a)*x+0.5*(b+a),0.5*(b-a)*w\n",
    "\n",
    "N = 50\n",
    "a = 0.0\n",
    "b = Theta_D / T  # limite superior físico\n",
    "\n",
    "\n",
    "# Pontos e pesos\n",
    "xp, wp = gaussxwab(N, a, b)\n",
    "\n",
    "# Integração\n",
    "s = 0.0\n",
    "for k in range(N):\n",
    "    s += wp[k] * f(xp[k])\n",
    "\n",
    "print(f\"Integral de Debye (Quadratura Gaussiana N={N}) = {s:.10f}\")\n",
    "\n",
    "\n",
    "# 2 - método de romberg \n",
    "import numpy as np\n",
    "\n",
    "# Função f(x) fornecida\n",
    "def f(x):\n",
    "    if x == 0:\n",
    "        return 0.0\n",
    "    return (x**4 * np.exp(x)) / (np.exp(x) - 1)**2\n",
    "\n",
    "# Implementação da regra trapezoidal composta\n",
    "def trapezio(f, a, b, n):\n",
    "    h = (b - a) / n\n",
    "    soma = 0.5 * (f(a) + f(b))\n",
    "    for k in range(1, n):\n",
    "        soma += f(a + k * h)\n",
    "    return soma * h\n",
    "\n",
    "# Implementação de Romberg manual\n",
    "def romberg(f, a, b, max_iter=10, tol=1e-10):\n",
    "    R = np.zeros((max_iter, max_iter))\n",
    "    \n",
    "    # Primeira estimativa: trapezoidal com 1 intervalo\n",
    "    R[0, 0] = trapezio(f, a, b, 1)\n",
    "    \n",
    "    for i in range(1, max_iter):\n",
    "        # Refinamento pela regra trapezoidal com o dobro de pontos\n",
    "        R[i, 0] = trapezio(f, a, b, 2**i)\n",
    "        \n",
    "        # Extrapolação de Richardson\n",
    "        for k in range(1, i+1):\n",
    "            R[i, k] = (4**k * R[i, k-1] - R[i-1, k-1]) / (4**k - 1)\n",
    "        \n",
    "        # Critério de parada\n",
    "        if abs(R[i, i] - R[i-1, i-1]) < tol:\n",
    "            return R[i, i], R[:i+1, :i+1]\n",
    "    \n",
    "    return R[max_iter-1, max_iter-1], R\n",
    "\n",
    "# Intervalo de integração\n",
    "a = 0\n",
    "b = Theta_D / T  \n",
    "\n",
    "resultado, tabela = romberg(f, a, b)\n",
    "\n",
    "print(f\"Integral de Debye (método de Romberg) = {resultado:.10f}\")\n",
    "print(\"\\nTabela de Romberg:\")\n",
    "for linha in tabela:\n",
    "    if np.any(linha != 0):\n",
    "        print(\"\\t\".join(f\"{val:.10f}\" if val != 0 else \" \" for val in linha))\n",
    "\n",
    "# valor de referencia\n",
    "from scipy.integrate import quad\n",
    "\n",
    "resultado, erro = quad(lambda x: (x**4 * np.exp(x)) / (np.exp(x) - 1)**2, 0, b)\n",
    "print(\"\\nValor de referencia:\")\n",
    "print(f\"{resultado:.6f} (erro estimado: {erro:.2e})\")\n",
    "\n"
   ]
  },
  {
   "cell_type": "markdown",
   "metadata": {},
   "source": [
    "![alt text](image2.png)"
   ]
  },
  {
   "cell_type": "code",
   "execution_count": null,
   "metadata": {},
   "outputs": [
    {
     "name": "stdout",
     "output_type": "stream",
     "text": [
      "Quadratura de Gauss (N=60): 19.122976016053162\n",
      "Quadratura de Gauss (N=80): 19.12297601605316\n",
      "Erro estimado (Gauss): 3.552714e-15\n",
      "\n",
      "Romberg: 19.122976016053162\n",
      "Erro relativo (Romberg vs Gauss N=80): 3.552714e-15\n",
      "--------------------------------------------------\n",
      "Conclusão: Romberg foi mais precisa neste caso.\n"
     ]
    }
   ],
   "source": [
    "# Dados\n",
    "N1 = 60\n",
    "N2 = 80\n",
    "a = 0.0\n",
    "\n",
    "# Quadratura de Gauss\n",
    "x1, w1 = gaussxwab(N1, a, b)\n",
    "x2, w2 = gaussxwab(N2, a, b)\n",
    "s1_gauss = sum(w1[k] * f(x1[k]) for k in range(N1))\n",
    "s2_gauss = sum(w2[k] * f(x2[k]) for k in range(N2))\n",
    "erro_gauss = abs(s2_gauss - s1_gauss)\n",
    "\n",
    "# Romberg (retorna valor e tabela) - o método de Romberg ja faz nele mesmo a comparação de refinamentos sucessivos \n",
    "valor_romberg, tabela_romberg = romberg(f, a, b)\n",
    "\n",
    "\n",
    "# Resultados\n",
    "print(f\"Quadratura de Gauss (N={N1}): {s1_gauss}\")\n",
    "print(f\"Quadratura de Gauss (N={N2}): {s2_gauss}\")\n",
    "print(f\"Erro estimado (Gauss): {erro_gauss:.6e}\\n\")\n",
    "\n",
    "print(f\"Romberg: {valor_romberg}\")\n",
    "print(f\"Erro relativo (Romberg vs Gauss N={N2}): {abs(valor_romberg - s2_gauss):.6e}\")\n",
    "\n",
    "print(\"-\"*50)\n",
    "if erro_gauss < abs(valor_romberg - s2_gauss):\n",
    "    print(\"Conclusão: Quadratura de Gauss foi mais precisa neste caso.\")\n",
    "else:\n",
    "    print(\"Conclusão: Romberg foi mais precisa neste caso.\")\n"
   ]
  }
 ],
 "metadata": {
  "kernelspec": {
   "display_name": "Python 3",
   "language": "python",
   "name": "python3"
  },
  "language_info": {
   "codemirror_mode": {
    "name": "ipython",
    "version": 3
   },
   "file_extension": ".py",
   "mimetype": "text/x-python",
   "name": "python",
   "nbconvert_exporter": "python",
   "pygments_lexer": "ipython3",
   "version": "3.11.9"
  }
 },
 "nbformat": 4,
 "nbformat_minor": 2
}
